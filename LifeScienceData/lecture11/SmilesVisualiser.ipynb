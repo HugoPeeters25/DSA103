{
 "cells": [
  {
   "cell_type": "markdown",
   "id": "b1d685d7",
   "metadata": {},
   "source": [
    "## Visualising SMILES strings using RDKit\n",
    "\n",
    "RDKit is a very powerful package for all sorts of data science tasks in the life sciences. One function is to draw the structure for a SMILES code, by converting it into a Mol object."
   ]
  },
  {
   "cell_type": "code",
   "execution_count": 1,
   "id": "c6d94d55",
   "metadata": {},
   "outputs": [],
   "source": [
    "from rdkit import Chem\n",
    "from rdkit.Chem import Draw"
   ]
  },
  {
   "cell_type": "code",
   "execution_count": 2,
   "id": "368d3ad0",
   "metadata": {},
   "outputs": [],
   "source": [
    "smiles = \"C1CCCCC1C#N\"\n",
    "\n",
    "mol_object = Chem.MolFromSmiles(smiles)"
   ]
  },
  {
   "cell_type": "code",
   "execution_count": 3,
   "id": "9944d55f",
   "metadata": {},
   "outputs": [
    {
     "data": {
      "image/png": "[encoded data removed]",
      "text/plain": [
       "<rdkit.Chem.rdchem.Mol at 0x11945da80>"
      ]
     },
     "execution_count": 3,
     "metadata": {},
     "output_type": "execute_result"
    }
   ],
   "source": [
    "mol_object"
   ]
  },
  {
   "cell_type": "code",
   "execution_count": 4,
   "id": "1590fb73",
   "metadata": {},
   "outputs": [
    {
     "data": {
      "text/plain": [
       "rdkit.Chem.rdchem.Mol"
      ]
     },
     "execution_count": 4,
     "metadata": {},
     "output_type": "execute_result"
    }
   ],
   "source": [
    "type(mol_object)"
   ]
  },
  {
   "cell_type": "markdown",
   "id": "c4bdae30",
   "metadata": {},
   "source": [
    "The Mol object can be converted into a canonical Smiles using the MolToSmiles funcion."
   ]
  },
  {
   "cell_type": "code",
   "execution_count": 5,
   "id": "07496e10",
   "metadata": {},
   "outputs": [
    {
     "data": {
      "text/plain": [
       "'N#CC1CCCCC1'"
      ]
     },
     "execution_count": 5,
     "metadata": {},
     "output_type": "execute_result"
    }
   ],
   "source": [
    "canonicalsmiles = Chem.MolToSmiles(mol_object)\n",
    "canonicalsmiles"
   ]
  },
  {
   "cell_type": "markdown",
   "id": "ebaba47f",
   "metadata": {},
   "source": [
    "To create an image, use the MolToImage function provided in Chem.Draw."
   ]
  },
  {
   "cell_type": "code",
   "execution_count": 6,
   "id": "032dd8f7",
   "metadata": {},
   "outputs": [
    {
     "data": {
      "image/jpeg": "[encoded data removed]",
      "image/png": "[encoded data removed]",
      "text/plain": [
       "<PIL.PngImagePlugin.PngImageFile image mode=RGB size=300x300>"
      ]
     },
     "execution_count": 6,
     "metadata": {},
     "output_type": "execute_result"
    }
   ],
   "source": [
    "img = Draw.MolToImage(mol_object)  # Creates an Image from the Mol object.\n",
    "img"
   ]
  },
  {
   "cell_type": "code",
   "execution_count": 7,
   "id": "4f69b910",
   "metadata": {},
   "outputs": [],
   "source": [
    "img.save(\"molecule.png\")"
   ]
  },
  {
   "cell_type": "markdown",
   "id": "362c4731",
   "metadata": {},
   "source": [
    "## Multiple entries\n",
    "\n",
    "Try the function MolsToGridImages to create a grid image from a list of Mols objects (SMILES need to be converted first!) and a list of names as legend."
   ]
  },
  {
   "cell_type": "code",
   "execution_count": 8,
   "id": "9918b8a8",
   "metadata": {},
   "outputs": [],
   "source": [
    "mols = []\n",
    "lst_smiles = [\"CCC\", \"COC\", \"CC(=O)O\"]\n",
    "names = [\"propane\", \"dimethyl ether\", \"acetic acid\"]\n"
   ]
  },
  {
   "cell_type": "code",
   "execution_count": 9,
   "id": "ba6f9fc0",
   "metadata": {},
   "outputs": [
    {
     "name": "stderr",
     "output_type": "stream",
     "text": [
      "[08:31:27] \n",
      "\n",
      "****\n",
      "Pre-condition Violation\n",
      "no draw context\n",
      "Violation occurred on line 211 in file /Users/runner/work/rdkit-pypi/rdkit-pypi/build/temp.macosx-11.0-arm64-cpython-311/rdkit/Code/GraphMol/MolDraw2D/MolDraw2DCairo.cpp\n",
      "Failed Expression: dp_cr\n",
      "****\n",
      "\n"
     ]
    },
    {
     "ename": "RuntimeError",
     "evalue": "Pre-condition Violation\n\tno draw context\n\tViolation occurred on line 211 in file Code/GraphMol/MolDraw2D/MolDraw2DCairo.cpp\n\tFailed Expression: dp_cr\n\tRDKIT: 2025.03.6\n\tBOOST: 1_85\n",
     "output_type": "error",
     "traceback": [
      "\u001b[31m---------------------------------------------------------------------------\u001b[39m",
      "\u001b[31mRuntimeError\u001b[39m                              Traceback (most recent call last)",
      "\u001b[36mCell\u001b[39m\u001b[36m \u001b[39m\u001b[32mIn[9]\u001b[39m\u001b[32m, line 1\u001b[39m\n\u001b[32m----> \u001b[39m\u001b[32m1\u001b[39m grid = \u001b[43mDraw\u001b[49m\u001b[43m.\u001b[49m\u001b[43mMolsToGridImage\u001b[49m\u001b[43m(\u001b[49m\u001b[43mmols\u001b[49m\u001b[43m,\u001b[49m\u001b[43m \u001b[49m\u001b[43mlegends\u001b[49m\u001b[43m=\u001b[49m\u001b[43mnames\u001b[49m\u001b[43m)\u001b[49m\n\u001b[32m      2\u001b[39m grid\n",
      "\u001b[36mFile \u001b[39m\u001b[32m~/DSA103/.venv/lib/python3.11/site-packages/rdkit/Chem/Draw/IPythonConsole.py:353\u001b[39m, in \u001b[36mShowMols\u001b[39m\u001b[34m(mols, maxMols, **kwargs)\u001b[39m\n\u001b[32m    350\u001b[39m \u001b[38;5;28;01mif\u001b[39;00m \u001b[33m\"\u001b[39m\u001b[33mdrawOptions\u001b[39m\u001b[33m\"\u001b[39m \u001b[38;5;129;01mnot\u001b[39;00m \u001b[38;5;129;01min\u001b[39;00m kwargs:\n\u001b[32m    351\u001b[39m   kwargs[\u001b[33m\"\u001b[39m\u001b[33mdrawOptions\u001b[39m\u001b[33m\"\u001b[39m] = drawOptions\n\u001b[32m--> \u001b[39m\u001b[32m353\u001b[39m res = \u001b[43mfn\u001b[49m\u001b[43m(\u001b[49m\u001b[43mmols\u001b[49m\u001b[43m,\u001b[49m\u001b[43m \u001b[49m\u001b[43m*\u001b[49m\u001b[43m*\u001b[49m\u001b[43mkwargs\u001b[49m\u001b[43m)\u001b[49m\n\u001b[32m    354\u001b[39m \u001b[38;5;28;01mif\u001b[39;00m InteractiveRenderer.isEnabled():\n\u001b[32m    355\u001b[39m   \u001b[38;5;28;01mreturn\u001b[39;00m HTML(res)\n",
      "\u001b[36mFile \u001b[39m\u001b[32m~/DSA103/.venv/lib/python3.11/site-packages/rdkit/Chem/Draw/__init__.py:566\u001b[39m, in \u001b[36mMolsToGridImage\u001b[39m\u001b[34m(mols, molsPerRow, subImgSize, legends, highlightAtomLists, highlightBondLists, useSVG, returnPNG, **kwargs)\u001b[39m\n\u001b[32m    562\u001b[39m   \u001b[38;5;28;01mreturn\u001b[39;00m _MolsToGridSVG(mols, molsPerRow=molsPerRow, subImgSize=subImgSize, legends=legends,\n\u001b[32m    563\u001b[39m                         highlightAtomLists=highlightAtomLists,\n\u001b[32m    564\u001b[39m                         highlightBondLists=highlightBondLists, **kwargs)\n\u001b[32m    565\u001b[39m \u001b[38;5;28;01melse\u001b[39;00m:\n\u001b[32m--> \u001b[39m\u001b[32m566\u001b[39m   \u001b[38;5;28;01mreturn\u001b[39;00m \u001b[43m_MolsToGridImage\u001b[49m\u001b[43m(\u001b[49m\u001b[43mmols\u001b[49m\u001b[43m,\u001b[49m\u001b[43m \u001b[49m\u001b[43mmolsPerRow\u001b[49m\u001b[43m=\u001b[49m\u001b[43mmolsPerRow\u001b[49m\u001b[43m,\u001b[49m\u001b[43m \u001b[49m\u001b[43msubImgSize\u001b[49m\u001b[43m=\u001b[49m\u001b[43msubImgSize\u001b[49m\u001b[43m,\u001b[49m\u001b[43m \u001b[49m\u001b[43mlegends\u001b[49m\u001b[43m=\u001b[49m\u001b[43mlegends\u001b[49m\u001b[43m,\u001b[49m\n\u001b[32m    567\u001b[39m \u001b[43m                          \u001b[49m\u001b[43mhighlightAtomLists\u001b[49m\u001b[43m=\u001b[49m\u001b[43mhighlightAtomLists\u001b[49m\u001b[43m,\u001b[49m\n\u001b[32m    568\u001b[39m \u001b[43m                          \u001b[49m\u001b[43mhighlightBondLists\u001b[49m\u001b[43m=\u001b[49m\u001b[43mhighlightBondLists\u001b[49m\u001b[43m,\u001b[49m\u001b[43m \u001b[49m\u001b[43mreturnPNG\u001b[49m\u001b[43m=\u001b[49m\u001b[43mreturnPNG\u001b[49m\u001b[43m,\u001b[49m\u001b[43m \u001b[49m\u001b[43m*\u001b[49m\u001b[43m*\u001b[49m\u001b[43mkwargs\u001b[49m\u001b[43m)\u001b[49m\n",
      "\u001b[36mFile \u001b[39m\u001b[32m~/DSA103/.venv/lib/python3.11/site-packages/rdkit/Chem/Draw/__init__.py:317\u001b[39m, in \u001b[36m_MolsToGridImage\u001b[39m\u001b[34m(mols, molsPerRow, subImgSize, legends, highlightAtomLists, highlightBondLists, drawOptions, returnPNG, **kwargs)\u001b[39m\n\u001b[32m    315\u001b[39m   res = _drawerToImage(d2d)\n\u001b[32m    316\u001b[39m \u001b[38;5;28;01melse\u001b[39;00m:\n\u001b[32m--> \u001b[39m\u001b[32m317\u001b[39m   res = \u001b[43md2d\u001b[49m\u001b[43m.\u001b[49m\u001b[43mGetDrawingText\u001b[49m\u001b[43m(\u001b[49m\u001b[43m)\u001b[49m\n\u001b[32m    319\u001b[39m \u001b[38;5;28;01mreturn\u001b[39;00m res\n",
      "\u001b[31mRuntimeError\u001b[39m: Pre-condition Violation\n\tno draw context\n\tViolation occurred on line 211 in file Code/GraphMol/MolDraw2D/MolDraw2DCairo.cpp\n\tFailed Expression: dp_cr\n\tRDKIT: 2025.03.6\n\tBOOST: 1_85\n"
     ]
    }
   ],
   "source": [
    "grid = Draw.MolsToGridImage(mols, legends=names)\n",
    "grid"
   ]
  },
  {
   "cell_type": "code",
   "execution_count": null,
   "id": "cc878cab",
   "metadata": {},
   "outputs": [],
   "source": []
  }
 ],
 "metadata": {
  "kernelspec": {
   "display_name": "DSA103",
   "language": "python",
   "name": "python3"
  },
  "language_info": {
   "codemirror_mode": {
    "name": "ipython",
    "version": 3
   },
   "file_extension": ".py",
   "mimetype": "text/x-python",
   "name": "python",
   "nbconvert_exporter": "python",
   "pygments_lexer": "ipython3",
   "version": "3.11.5"
  }
 },
 "nbformat": 4,
 "nbformat_minor": 5
}
