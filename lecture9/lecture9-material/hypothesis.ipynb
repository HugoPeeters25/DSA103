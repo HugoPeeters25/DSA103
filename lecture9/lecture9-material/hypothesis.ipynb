{
 "cells": [
  {
   "cell_type": "markdown",
   "id": "b1d685d7",
   "metadata": {},
   "source": [
    "## Generating and testing a hypothesis\n",
    "\n",
    "Purpose: We want to assess the correlation of structure (e.g. lipophilicity) of some molecules with their inhibitory activity for Acetylcholinesterase (AChE). \n",
    "\n",
    "We have already seen that the correlation doesn't seem to be too strong, but is it statistically significant? Hence our hypothesis is still: \"High lipohilicity (XlogP) leads to higher potency (pchembl_value)\".\n",
    "\n",
    "Import dependencies and load the combined dataset for assessing our \"quantitative structure-activity relationship\" (QSAR)."
   ]
  },
  {
   "cell_type": "code",
   "execution_count": 1,
   "id": "c6d94d55",
   "metadata": {},
   "outputs": [
    {
     "data": {
      "text/html": [
       "<div>\n",
       "<style scoped>\n",
       "    .dataframe tbody tr th:only-of-type {\n",
       "        vertical-align: middle;\n",
       "    }\n",
       "\n",
       "    .dataframe tbody tr th {\n",
       "        vertical-align: top;\n",
       "    }\n",
       "\n",
       "    .dataframe thead th {\n",
       "        text-align: right;\n",
       "    }\n",
       "</style>\n",
       "<table border=\"1\" class=\"dataframe\">\n",
       "  <thead>\n",
       "    <tr style=\"text-align: right;\">\n",
       "      <th></th>\n",
       "      <th>Unnamed: 0</th>\n",
       "      <th>canonical_smiles</th>\n",
       "      <th>pchembl_value</th>\n",
       "      <th>CID</th>\n",
       "      <th>MolecularWeight</th>\n",
       "      <th>XLogP</th>\n",
       "      <th>TPSA</th>\n",
       "      <th>HBondDonorCount</th>\n",
       "      <th>HBondAcceptorCount</th>\n",
       "      <th>RotatableBondCount</th>\n",
       "    </tr>\n",
       "  </thead>\n",
       "  <tbody>\n",
       "    <tr>\n",
       "      <th>0</th>\n",
       "      <td>1</td>\n",
       "      <td>C(=C/C1CCN(Cc2ccccc2)CC1)\\c1noc2ccccc12</td>\n",
       "      <td>6.68</td>\n",
       "      <td>9901561</td>\n",
       "      <td>318.4</td>\n",
       "      <td>4.5</td>\n",
       "      <td>29.3</td>\n",
       "      <td>0</td>\n",
       "      <td>3.0</td>\n",
       "      <td>4</td>\n",
       "    </tr>\n",
       "    <tr>\n",
       "      <th>1</th>\n",
       "      <td>2</td>\n",
       "      <td>C/C=C1\\[C@H]2C=C(C)C[C@]1(NC1OCC3=C4CC(C)(C)C[...</td>\n",
       "      <td>6.96</td>\n",
       "      <td>118715261</td>\n",
       "      <td>492.6</td>\n",
       "      <td>1.2</td>\n",
       "      <td>90.8</td>\n",
       "      <td>4</td>\n",
       "      <td>5.0</td>\n",
       "      <td>2</td>\n",
       "    </tr>\n",
       "    <tr>\n",
       "      <th>2</th>\n",
       "      <td>3</td>\n",
       "      <td>C/C=C1\\[C@H]2C=C(C)C[C@]1(N[C@H]1OC(=O)C3=C4CC...</td>\n",
       "      <td>5.66</td>\n",
       "      <td>118715260</td>\n",
       "      <td>506.6</td>\n",
       "      <td>1.5</td>\n",
       "      <td>108.0</td>\n",
       "      <td>4</td>\n",
       "      <td>6.0</td>\n",
       "      <td>2</td>\n",
       "    </tr>\n",
       "    <tr>\n",
       "      <th>3</th>\n",
       "      <td>4</td>\n",
       "      <td>C=CC(=O)N1C/C(=C\\c2ccc(C)cc2)C(=O)/C(=C/c2ccc(...</td>\n",
       "      <td>4.74</td>\n",
       "      <td>24796898</td>\n",
       "      <td>357.4</td>\n",
       "      <td>4.4</td>\n",
       "      <td>37.4</td>\n",
       "      <td>0</td>\n",
       "      <td>2.0</td>\n",
       "      <td>3</td>\n",
       "    </tr>\n",
       "    <tr>\n",
       "      <th>4</th>\n",
       "      <td>5</td>\n",
       "      <td>C=CC(=O)N1C/C(=C\\c2ccc(Cl)cc2Cl)C(=O)/C(=C/c2c...</td>\n",
       "      <td>4.80</td>\n",
       "      <td>71720637</td>\n",
       "      <td>467.2</td>\n",
       "      <td>6.2</td>\n",
       "      <td>37.4</td>\n",
       "      <td>0</td>\n",
       "      <td>2.0</td>\n",
       "      <td>3</td>\n",
       "    </tr>\n",
       "  </tbody>\n",
       "</table>\n",
       "</div>"
      ],
      "text/plain": [
       "   Unnamed: 0                                   canonical_smiles  \\\n",
       "0           1            C(=C/C1CCN(Cc2ccccc2)CC1)\\c1noc2ccccc12   \n",
       "1           2  C/C=C1\\[C@H]2C=C(C)C[C@]1(NC1OCC3=C4CC(C)(C)C[...   \n",
       "2           3  C/C=C1\\[C@H]2C=C(C)C[C@]1(N[C@H]1OC(=O)C3=C4CC...   \n",
       "3           4  C=CC(=O)N1C/C(=C\\c2ccc(C)cc2)C(=O)/C(=C/c2ccc(...   \n",
       "4           5  C=CC(=O)N1C/C(=C\\c2ccc(Cl)cc2Cl)C(=O)/C(=C/c2c...   \n",
       "\n",
       "   pchembl_value        CID  MolecularWeight  XLogP   TPSA  HBondDonorCount  \\\n",
       "0           6.68    9901561            318.4    4.5   29.3                0   \n",
       "1           6.96  118715261            492.6    1.2   90.8                4   \n",
       "2           5.66  118715260            506.6    1.5  108.0                4   \n",
       "3           4.74   24796898            357.4    4.4   37.4                0   \n",
       "4           4.80   71720637            467.2    6.2   37.4                0   \n",
       "\n",
       "   HBondAcceptorCount  RotatableBondCount  \n",
       "0                 3.0                   4  \n",
       "1                 5.0                   2  \n",
       "2                 6.0                   2  \n",
       "3                 2.0                   3  \n",
       "4                 2.0                   3  "
      ]
     },
     "execution_count": 1,
     "metadata": {},
     "output_type": "execute_result"
    }
   ],
   "source": [
    "import pandas as pd\n",
    "import matplotlib.pyplot as plt\n",
    "import seaborn as sns\n",
    "from scipy import stats\n",
    "\n",
    "# Load both datasets\n",
    "df = pd.read_csv(\"ache_qsar_data.csv\")\n",
    "df.head()\n",
    "\n"
   ]
  },
  {
   "cell_type": "markdown",
   "id": "172f4878",
   "metadata": {},
   "source": [
    "Produce a scatterplot of the columns \"XLogP\" and \"pchembl_value\"."
   ]
  },
  {
   "cell_type": "code",
   "execution_count": 2,
   "id": "d12944cf",
   "metadata": {},
   "outputs": [
    {
     "data": {
      "image/png": "[encoded data removed]",
      "text/plain": [
       "<Figure size 640x480 with 1 Axes>"
      ]
     },
     "metadata": {},
     "output_type": "display_data"
    }
   ],
   "source": [
    "# Quick scatter plot\n",
    "plt.scatter(df[\"XLogP\"], df[\"pchembl_value\"])\n",
    "plt.xlabel(\"XLogP\")\n",
    "plt.ylabel(\"pChEMBL activity\")\n",
    "plt.title(\"Lipophilicity vs. Inhibitory Activity (AChE)\")\n",
    "plt.show()\n"
   ]
  },
  {
   "cell_type": "markdown",
   "id": "c07d4007",
   "metadata": {},
   "source": [
    "To test our hypothesis, we will have a look at highly lipophilic molecules and compare them to the rest. The null-hypothesis is that for both groups, the mean will be the same (mean_low = mean_high).\n",
    "\n",
    "First, let's create a new column \"high_logp\" with the condition to XLogP > 3 to start with."
   ]
  },
  {
   "cell_type": "code",
   "execution_count": null,
   "id": "ddc5d2c2",
   "metadata": {},
   "outputs": [],
   "source": [
    "# Define high/low lipophilicity groups\n",
    "df[\"high_logp\"] = df[\"XLogP\"] > 5\n",
    "df.head()\n"
   ]
  },
  {
   "cell_type": "markdown",
   "id": "a03fbaae",
   "metadata": {},
   "source": [
    "Now, calculate the means for all low_logp and high_logp molecules. For this, use the \"high_logp\" column to create two groups. Compare their size and their variance."
   ]
  },
  {
   "cell_type": "code",
   "execution_count": null,
   "id": "5f3d1eea",
   "metadata": {},
   "outputs": [],
   "source": [
    "\n"
   ]
  },
  {
   "cell_type": "markdown",
   "id": "5b9b1ecd",
   "metadata": {},
   "source": [
    "Now, run a two-sample t-test to assess our null-hypothesis (\"the means of the two groups are equal\"). If the p_value is lower than 0.05, we can reject the null-hypothesis and our alternative hypothesis is true, i.e. there is a significant difference between the two means (which tells us that the higher lipophilicity leads to increased activity)."
   ]
  },
  {
   "cell_type": "code",
   "execution_count": null,
   "id": "80db430e",
   "metadata": {},
   "outputs": [],
   "source": [
    "# t-test\n",
    "\n",
    "t_value, p_value = stats.ttest_ind(group_high, group_low, equal_var=False, nan_policy=\"omit\")\n",
    "print(f\"t_value = {t_value:.2f}, p_value = {p_value:.4f}\")"
   ]
  },
  {
   "cell_type": "code",
   "execution_count": null,
   "id": "6d486b69",
   "metadata": {},
   "outputs": [],
   "source": []
  }
 ],
 "metadata": {
  "kernelspec": {
   "display_name": "DSA103",
   "language": "python",
   "name": "python3"
  },
  "language_info": {
   "codemirror_mode": {
    "name": "ipython",
    "version": 3
   },
   "file_extension": ".py",
   "mimetype": "text/x-python",
   "name": "python",
   "nbconvert_exporter": "python",
   "pygments_lexer": "ipython3",
   "version": "3.11.5"
  }
 },
 "nbformat": 4,
 "nbformat_minor": 5
}
